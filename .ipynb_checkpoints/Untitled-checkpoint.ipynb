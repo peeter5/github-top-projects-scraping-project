{
 "cells": [
  {
   "cell_type": "code",
   "execution_count": null,
   "id": "03c859d9-bdf0-40f0-ad9e-6af41ce1cffe",
   "metadata": {},
   "outputs": [],
   "source": [
    "#Use requests page to scrape Library"
   ]
  },
  {
   "cell_type": "code",
   "execution_count": 48,
   "id": "b86ed02c-28e9-45c6-8452-4de93284aa1c",
   "metadata": {},
   "outputs": [
    {
     "name": "stdout",
     "output_type": "stream",
     "text": [
      "pick a  website and description of objective\n",
      "Browse through different sites and pick on the one to scrape\n",
      "Identify the information you wish to obtain.Describe and obtain in csv files\n"
     ]
    }
   ],
   "source": []
  },
  {
   "cell_type": "code",
   "execution_count": 44,
   "id": "32956407-cde4-4d77-8ca9-09cffb29557a",
   "metadata": {},
   "outputs": [
    {
     "name": "stdout",
     "output_type": "stream",
     "text": [
      "Outline\n",
      "going to scrape https://github.com/topics\n",
      "get a list of topics.for each topic we\n",
      "topic page url and topic description\n",
      "for each repository, we'll grab the repo name,username,stars and repo URL\n",
      "for each topic well create a csv file in  the following format\n"
     ]
    }
   ],
   "source": []
  },
  {
   "cell_type": "code",
   "execution_count": 2,
   "id": "fdc30c2d-4755-450a-8c38-78b561f40eaa",
   "metadata": {},
   "outputs": [],
   "source": [
    "import requests"
   ]
  },
  {
   "cell_type": "code",
   "execution_count": 3,
   "id": "90d06666-0f84-4ed9-b8e2-1e6d9967fe20",
   "metadata": {},
   "outputs": [],
   "source": [
    "topics_url='https://github.com/topics'"
   ]
  },
  {
   "cell_type": "code",
   "execution_count": 10,
   "id": "2f0890aa-de6d-413e-b2c3-abb17b5ba129",
   "metadata": {},
   "outputs": [],
   "source": [
    "response=requests.get(topics_url)"
   ]
  },
  {
   "cell_type": "code",
   "execution_count": 11,
   "id": "d3d0709e-1c77-469b-9d6b-08458cdde273",
   "metadata": {},
   "outputs": [
    {
     "data": {
      "text/plain": [
       "200"
      ]
     },
     "execution_count": 11,
     "metadata": {},
     "output_type": "execute_result"
    }
   ],
   "source": [
    "response.status_code\n"
   ]
  },
  {
   "cell_type": "code",
   "execution_count": 42,
   "id": "c5454032-90fe-4855-a156-e339ae15e02a",
   "metadata": {
    "tags": []
   },
   "outputs": [],
   "source": [
    "page_contents=response.text"
   ]
  },
  {
   "cell_type": "code",
   "execution_count": 54,
   "id": "3bd4b3f0-4318-425f-bcff-f69a7a8fae28",
   "metadata": {
    "tags": []
   },
   "outputs": [
    {
     "data": {
      "text/plain": [
       "'\\n\\n<!DOCTYPE html>\\n<html lang=\"en\" data-color-mode=\"auto\" data-light-theme=\"light\" data-dark-theme=\"dark\" data-a11y-animated-images=\"system\">\\n  <head>\\n    <meta charset=\"utf-8\">\\n  <link rel=\"dns-prefetch\" href=\"https://github.githubassets.com\">\\n  <link rel=\"dns-prefetch\" href=\"https://avatars.githubusercontent.com\">\\n  <link rel=\"dns-prefetch\" href=\"https://github-cloud.s3.amazonaws.com\">\\n  <link rel=\"dns-prefetch\" href=\"https://user-images.githubusercontent.com/\">\\n  <link rel=\"preconnect\" href=\"h'"
      ]
     },
     "execution_count": 54,
     "metadata": {},
     "output_type": "execute_result"
    }
   ],
   "source": [
    "page_contents[:500]"
   ]
  },
  {
   "cell_type": "code",
   "execution_count": 14,
   "id": "ff59a688-2613-4ad6-9b1b-522637756738",
   "metadata": {
    "tags": []
   },
   "outputs": [],
   "source": [
    "with open('webpage.html', 'w') as f:\n",
    "    f.write(page_contents)"
   ]
  },
  {
   "cell_type": "code",
   "execution_count": 15,
   "id": "a22a9f48-08f3-4eab-870a-3a835b5f97aa",
   "metadata": {},
   "outputs": [],
   "source": [
    "##Use BeautifulSoup to extract information\n",
    "from bs4 import BeautifulSoup\n"
   ]
  },
  {
   "cell_type": "code",
   "execution_count": 16,
   "id": "a613288a-e11c-40ec-8666-eb16ed5e8a98",
   "metadata": {
    "tags": []
   },
   "outputs": [],
   "source": [
    "doc=BeautifulSoup(page_contents, 'html.parser')"
   ]
  },
  {
   "cell_type": "code",
   "execution_count": 34,
   "id": "01dcce16-ddce-4342-9172-037b5faf10e9",
   "metadata": {
    "tags": []
   },
   "outputs": [],
   "source": [
    "#\n",
    "selection_class=\"f3 lh-condensed mb-0 mt-1 Link--primary\"\n",
    "topic_title_tags = doc.find_all('p', {'class': selection_class})\n"
   ]
  },
  {
   "cell_type": "code",
   "execution_count": 36,
   "id": "b7a7e7d9-298a-4bbd-8f3a-f86d550817e8",
   "metadata": {
    "tags": []
   },
   "outputs": [
    {
     "data": {
      "text/plain": [
       "[<p class=\"f3 lh-condensed mb-0 mt-1 Link--primary\">3D</p>,\n",
       " <p class=\"f3 lh-condensed mb-0 mt-1 Link--primary\">Ajax</p>,\n",
       " <p class=\"f3 lh-condensed mb-0 mt-1 Link--primary\">Algorithm</p>,\n",
       " <p class=\"f3 lh-condensed mb-0 mt-1 Link--primary\">Amp</p>,\n",
       " <p class=\"f3 lh-condensed mb-0 mt-1 Link--primary\">Android</p>]"
      ]
     },
     "execution_count": 36,
     "metadata": {},
     "output_type": "execute_result"
    }
   ],
   "source": [
    "#print five title tags\n",
    "topic_title_tags[:5]\n"
   ]
  },
  {
   "cell_type": "code",
   "execution_count": 66,
   "id": "ce570619-cf94-4b24-92a5-e689e7ba74f3",
   "metadata": {
    "tags": []
   },
   "outputs": [],
   "source": [
    "#find all classes that contain descriptions in paragraphs\n",
    "des_selector=\"f5 color-fg-muted mb-0 mt-1\"\n",
    "topic_desc_tags=doc.find_all('p', {'class': des_selector})\n"
   ]
  },
  {
   "cell_type": "code",
   "execution_count": 70,
   "id": "d1dd97d2-dcc3-4eff-be83-3043ae9a11b7",
   "metadata": {},
   "outputs": [
    {
     "data": {
      "text/plain": [
       "[<p class=\"f5 color-fg-muted mb-0 mt-1\">\n",
       "           3D refers to the use of three-dimensional graphics, modeling, and animation in various industries.\n",
       "         </p>,\n",
       " <p class=\"f5 color-fg-muted mb-0 mt-1\">\n",
       "           Ajax is a technique for creating interactive web applications.\n",
       "         </p>,\n",
       " <p class=\"f5 color-fg-muted mb-0 mt-1\">\n",
       "           Algorithms are self-contained sequences that carry out a variety of tasks.\n",
       "         </p>]"
      ]
     },
     "execution_count": 70,
     "metadata": {},
     "output_type": "execute_result"
    }
   ],
   "source": [
    "#print 3 paragraphs containing description\n",
    "topic_desc_tags[:3]"
   ]
  },
  {
   "cell_type": "code",
   "execution_count": 87,
   "id": "712da18c-8ca4-43dc-9f37-c187472a838b",
   "metadata": {},
   "outputs": [],
   "source": [
    "topic_link_tag=doc.find_all('a', {'class': 'no-underline flex-grow-0'})"
   ]
  },
  {
   "cell_type": "code",
   "execution_count": 88,
   "id": "7732cdaf-a467-43de-94be-c52deb76b46f",
   "metadata": {
    "tags": []
   },
   "outputs": [
    {
     "data": {
      "text/plain": [
       "30"
      ]
     },
     "execution_count": 88,
     "metadata": {},
     "output_type": "execute_result"
    }
   ],
   "source": [
    "len(topic_link_tag)\n"
   ]
  },
  {
   "cell_type": "code",
   "execution_count": 89,
   "id": "ce81e774-8a08-40e9-80cc-7f65b66ef930",
   "metadata": {
    "tags": []
   },
   "outputs": [
    {
     "data": {
      "text/plain": [
       "<a class=\"no-underline flex-grow-0\" href=\"/topics/3d\">\n",
       "<div class=\"color-bg-accent f4 color-fg-muted text-bold rounded mr-3 flex-shrink-0 text-center\" style=\"width:64px; height:64px; line-height:64px;\">\n",
       "            #\n",
       "          </div>\n",
       "</a>"
      ]
     },
     "execution_count": 89,
     "metadata": {},
     "output_type": "execute_result"
    }
   ],
   "source": [
    "topic_link_tag[0]"
   ]
  },
  {
   "cell_type": "code",
   "execution_count": 95,
   "id": "53b147f2-b407-415d-adca-3f9bf5785c0a",
   "metadata": {
    "tags": []
   },
   "outputs": [
    {
     "data": {
      "text/plain": [
       "'https://github.com/topics/3d'"
      ]
     },
     "execution_count": 95,
     "metadata": {},
     "output_type": "execute_result"
    }
   ],
   "source": [
    "topic_link_tag[0]['href']\n",
    "url=topic_link_tag[0]['href']\n",
    "topic_url0=\"https://github.com{}\".format(url)\n",
    "topic_url0"
   ]
  },
  {
   "cell_type": "code",
   "execution_count": 102,
   "id": "04eb6bd1-d9bc-4cb6-a405-b6d21ecb1ee1",
   "metadata": {
    "tags": []
   },
   "outputs": [
    {
     "name": "stdout",
     "output_type": "stream",
     "text": [
      "['3D', 'Ajax', 'Algorithm', 'Amp', 'Android', 'Angular', 'Ansible', 'API', 'Arduino', 'ASP.NET', 'Atom', 'Awesome Lists', 'Amazon Web Services', 'Azure', 'Babel', 'Bash', 'Bitcoin', 'Bootstrap', 'Bot', 'C', 'Chrome', 'Chrome extension', 'Command line interface', 'Clojure', 'Code quality', 'Code review', 'Compiler', 'Continuous integration', 'COVID-19', 'C++']\n"
     ]
    }
   ],
   "source": [
    "topic_titles = []\n",
    "for tag in topic_title_tags:\n",
    "    topic_titles.append(tag.text)\n",
    "    \n",
    "print(topic_titles)"
   ]
  },
  {
   "cell_type": "code",
   "execution_count": 110,
   "id": "7669e57c-d3c0-4060-88ac-096467e7a362",
   "metadata": {
    "tags": []
   },
   "outputs": [
    {
     "data": {
      "text/plain": [
       "['3D refers to the use of three-dimensional graphics, modeling, and animation in various industries.',\n",
       " 'Ajax is a technique for creating interactive web applications.',\n",
       " 'Algorithms are self-contained sequences that carry out a variety of tasks.',\n",
       " 'Amp is a non-blocking concurrency library for PHP.',\n",
       " 'Android is an operating system built by Google designed for mobile devices.']"
      ]
     },
     "execution_count": 110,
     "metadata": {},
     "output_type": "execute_result"
    }
   ],
   "source": [
    "topic_descriptions=[]\n",
    "for tag in topic_desc_tags:\n",
    "    topic_descriptions.append(tag.text.strip())\n",
    "topic_descriptions[:5]"
   ]
  },
  {
   "cell_type": "code",
   "execution_count": 115,
   "id": "ca4a786d-8924-459a-b1c7-8f435df66762",
   "metadata": {
    "tags": []
   },
   "outputs": [
    {
     "data": {
      "text/plain": [
       "['https://github.com/topics/3d',\n",
       " 'https://github.com/topics/ajax',\n",
       " 'https://github.com/topics/algorithm',\n",
       " 'https://github.com/topics/amphp',\n",
       " 'https://github.com/topics/android']"
      ]
     },
     "execution_count": 115,
     "metadata": {},
     "output_type": "execute_result"
    }
   ],
   "source": [
    "base_url=\"https://github.com\"\n",
    "topic_urls=[]\n",
    "for tag in topic_link_tag:\n",
    "    topic_urls.append(base_url + tag['href'])\n",
    "topic_urls[:5]"
   ]
  },
  {
   "cell_type": "code",
   "execution_count": 118,
   "id": "98349a02-cd02-487b-a901-8647c0f55888",
   "metadata": {
    "tags": []
   },
   "outputs": [],
   "source": [
    "!pip install pandas  --quiet"
   ]
  },
  {
   "cell_type": "code",
   "execution_count": 119,
   "id": "5c06d171-0c34-4f96-a28d-1b13e577e403",
   "metadata": {
    "tags": []
   },
   "outputs": [],
   "source": [
    "import pandas as pd"
   ]
  },
  {
   "cell_type": "code",
   "execution_count": 121,
   "id": "c8bb6d94-ff9c-4fcc-9a14-9ac3b02e8261",
   "metadata": {
    "tags": []
   },
   "outputs": [],
   "source": [
    "topics_dict={\n",
    "    'title':topic_titles,\n",
    "    'description':topic_descriptions,\n",
    "    'url':topic_urls\n",
    "}"
   ]
  },
  {
   "cell_type": "code",
   "execution_count": 124,
   "id": "8a153ad4-71fa-4208-8664-87d1b72a980d",
   "metadata": {
    "tags": []
   },
   "outputs": [],
   "source": [
    "topics_df=pd.DataFrame(topics_dict)"
   ]
  },
  {
   "cell_type": "code",
   "execution_count": 126,
   "id": "3f91a728-ee4a-499a-b6e4-370b764fd475",
   "metadata": {
    "tags": []
   },
   "outputs": [
    {
     "data": {
      "text/html": [
       "<div>\n",
       "<style scoped>\n",
       "    .dataframe tbody tr th:only-of-type {\n",
       "        vertical-align: middle;\n",
       "    }\n",
       "\n",
       "    .dataframe tbody tr th {\n",
       "        vertical-align: top;\n",
       "    }\n",
       "\n",
       "    .dataframe thead th {\n",
       "        text-align: right;\n",
       "    }\n",
       "</style>\n",
       "<table border=\"1\" class=\"dataframe\">\n",
       "  <thead>\n",
       "    <tr style=\"text-align: right;\">\n",
       "      <th></th>\n",
       "      <th>title</th>\n",
       "      <th>description</th>\n",
       "      <th>url</th>\n",
       "    </tr>\n",
       "  </thead>\n",
       "  <tbody>\n",
       "    <tr>\n",
       "      <th>0</th>\n",
       "      <td>3D</td>\n",
       "      <td>3D refers to the use of three-dimensional grap...</td>\n",
       "      <td>https://github.com/topics/3d</td>\n",
       "    </tr>\n",
       "    <tr>\n",
       "      <th>1</th>\n",
       "      <td>Ajax</td>\n",
       "      <td>Ajax is a technique for creating interactive w...</td>\n",
       "      <td>https://github.com/topics/ajax</td>\n",
       "    </tr>\n",
       "    <tr>\n",
       "      <th>2</th>\n",
       "      <td>Algorithm</td>\n",
       "      <td>Algorithms are self-contained sequences that c...</td>\n",
       "      <td>https://github.com/topics/algorithm</td>\n",
       "    </tr>\n",
       "  </tbody>\n",
       "</table>\n",
       "</div>"
      ],
      "text/plain": [
       "       title                                        description  \\\n",
       "0         3D  3D refers to the use of three-dimensional grap...   \n",
       "1       Ajax  Ajax is a technique for creating interactive w...   \n",
       "2  Algorithm  Algorithms are self-contained sequences that c...   \n",
       "\n",
       "                                   url  \n",
       "0         https://github.com/topics/3d  \n",
       "1       https://github.com/topics/ajax  \n",
       "2  https://github.com/topics/algorithm  "
      ]
     },
     "execution_count": 126,
     "metadata": {},
     "output_type": "execute_result"
    }
   ],
   "source": [
    "topics_df[:3]"
   ]
  },
  {
   "cell_type": "code",
   "execution_count": null,
   "id": "6639de13-150d-46cb-9c82-5b185c576780",
   "metadata": {},
   "outputs": [],
   "source": []
  },
  {
   "cell_type": "code",
   "execution_count": null,
   "id": "1fe2997b-454e-45bd-916a-2000b6575009",
   "metadata": {},
   "outputs": [],
   "source": [
    "#create a csv file of extracted information"
   ]
  },
  {
   "cell_type": "code",
   "execution_count": 129,
   "id": "91e22342-7245-409e-a63a-43e0175ccbfa",
   "metadata": {
    "tags": []
   },
   "outputs": [],
   "source": [
    "topics_df.to_csv('topics.csv', index=None)"
   ]
  },
  {
   "cell_type": "code",
   "execution_count": 130,
   "id": "5bfb6d42-2acf-4b86-b414-e7dc77a5581c",
   "metadata": {
    "tags": []
   },
   "outputs": [],
   "source": [
    "##Getting information out of a topic page"
   ]
  },
  {
   "cell_type": "code",
   "execution_count": 132,
   "id": "a6393a53-8dfb-4596-b373-666d5863c6cf",
   "metadata": {
    "tags": []
   },
   "outputs": [],
   "source": [
    "topic_page_url=topic_urls[0]"
   ]
  },
  {
   "cell_type": "code",
   "execution_count": 133,
   "id": "ab4d77fe-fd20-4a25-9f78-bae90a88865f",
   "metadata": {
    "tags": []
   },
   "outputs": [
    {
     "data": {
      "text/plain": [
       "'https://github.com/topics/3d'"
      ]
     },
     "execution_count": 133,
     "metadata": {},
     "output_type": "execute_result"
    }
   ],
   "source": [
    "topic_page_url"
   ]
  },
  {
   "cell_type": "code",
   "execution_count": 139,
   "id": "89a2fa13-1e57-4114-aa3c-49a027f827b0",
   "metadata": {
    "tags": []
   },
   "outputs": [],
   "source": [
    "response=requests.get(topic_page_url)"
   ]
  },
  {
   "cell_type": "code",
   "execution_count": 140,
   "id": "e8313143-9701-4836-9f69-63939b56053f",
   "metadata": {
    "tags": []
   },
   "outputs": [
    {
     "data": {
      "text/plain": [
       "460351"
      ]
     },
     "execution_count": 140,
     "metadata": {},
     "output_type": "execute_result"
    }
   ],
   "source": [
    "len(response.text)\n"
   ]
  },
  {
   "cell_type": "code",
   "execution_count": 141,
   "id": "3f7ab7a9-7c72-4403-8d20-2441857bd9df",
   "metadata": {
    "tags": []
   },
   "outputs": [],
   "source": [
    "topic_doc=BeautifulSoup(response.text, 'html.parser')"
   ]
  },
  {
   "cell_type": "code",
   "execution_count": 144,
   "id": "37df9104-1a7b-448c-bc95-b02edbce7251",
   "metadata": {
    "tags": []
   },
   "outputs": [],
   "source": [
    "h3_selection_class='f3 color-fg-muted text-normal lh-condensed'\n",
    "repo_tags=topic_doc.find_all('h3', {'class': h3_selection_class})"
   ]
  },
  {
   "cell_type": "code",
   "execution_count": 286,
   "id": "acef37b6-e4cc-45b5-af38-ef8835f8554a",
   "metadata": {
    "tags": []
   },
   "outputs": [
    {
     "ename": "IndexError",
     "evalue": "list index out of range",
     "output_type": "error",
     "traceback": [
      "\u001b[0;31m---------------------------------------------------------------------------\u001b[0m",
      "\u001b[0;31mIndexError\u001b[0m                                Traceback (most recent call last)",
      "Cell \u001b[0;32mIn[286], line 2\u001b[0m\n\u001b[1;32m      1\u001b[0m a_tags\u001b[38;5;241m=\u001b[39mrepo_tags[\u001b[38;5;241m0\u001b[39m]\u001b[38;5;241m.\u001b[39mfind_all(\u001b[38;5;124m'\u001b[39m\u001b[38;5;124ma\u001b[39m\u001b[38;5;124m'\u001b[39m)\n\u001b[0;32m----> 2\u001b[0m \u001b[43ma_tags\u001b[49m\u001b[43m[\u001b[49m\u001b[38;5;241;43m2\u001b[39;49m\u001b[43m]\u001b[49m\u001b[38;5;241m.\u001b[39mtext\u001b[38;5;241m.\u001b[39mstrip()\u001b[38;5;241m+\u001b[39m a_tags[\u001b[38;5;241m0\u001b[39m]\u001b[38;5;241m.\u001b[39mtext\u001b[38;5;241m.\u001b[39mstrip()\n",
      "\u001b[0;31mIndexError\u001b[0m: list index out of range"
     ]
    }
   ],
   "source": [
    "a_tags=repo_tags[0].find_all('a')\n",
    "a_tags[2].text.strip()+ a_tags[0].text.strip()"
   ]
  },
  {
   "cell_type": "code",
   "execution_count": 282,
   "id": "fd3cb77c-f29d-4a35-af3a-c1296cee6639",
   "metadata": {
    "tags": []
   },
   "outputs": [
    {
     "name": "stdout",
     "output_type": "stream",
     "text": [
      "https://gthub.com/mrdoob/three.js\n"
     ]
    }
   ],
   "source": [
    "base_url='https://gthub.com'\n",
    "repo_url=base_url + a_tags[1]['href']\n",
    "print(repo_url)"
   ]
  },
  {
   "cell_type": "code",
   "execution_count": 257,
   "id": "9f49cd3e-3a72-4d2e-8eb5-f5c2274af93c",
   "metadata": {
    "tags": []
   },
   "outputs": [],
   "source": [
    "star_tags = topic_doc.find_all('span', {'class': 'Counter js-social-count'})"
   ]
  },
  {
   "cell_type": "code",
   "execution_count": 258,
   "id": "84c2cdc8-14c6-478d-8154-5260e2c17015",
   "metadata": {
    "tags": []
   },
   "outputs": [
    {
     "data": {
      "text/plain": [
       "20"
      ]
     },
     "execution_count": 258,
     "metadata": {},
     "output_type": "execute_result"
    }
   ],
   "source": [
    "len(star_tags)"
   ]
  },
  {
   "cell_type": "code",
   "execution_count": 259,
   "id": "7ff7369b-b187-4d7c-b0fb-a5673d964014",
   "metadata": {
    "tags": []
   },
   "outputs": [
    {
     "data": {
      "text/plain": [
       "'90.1k'"
      ]
     },
     "execution_count": 259,
     "metadata": {},
     "output_type": "execute_result"
    }
   ],
   "source": [
    "star_tags[0].text.strip()"
   ]
  },
  {
   "cell_type": "code",
   "execution_count": 260,
   "id": "d4dd8f60-f61b-4265-9668-fdc8b4e414e5",
   "metadata": {
    "tags": []
   },
   "outputs": [],
   "source": [
    "def parse_star_count(stars_str):\n",
    "    stars_str = stars_str.strip()\n",
    "    if stars_str[-1] == 'k':\n",
    "        return int(float(stars_str[:-1]) * 1000)\n",
    "    return int(stars_str)\n",
    "    "
   ]
  },
  {
   "cell_type": "code",
   "execution_count": 261,
   "id": "65b9ae19-d73e-4786-b94f-bae42e83cadf",
   "metadata": {
    "tags": []
   },
   "outputs": [
    {
     "data": {
      "text/plain": [
       "90100"
      ]
     },
     "execution_count": 261,
     "metadata": {},
     "output_type": "execute_result"
    }
   ],
   "source": [
    "parse_star_count(star_tags[0].text.strip())"
   ]
  },
  {
   "cell_type": "code",
   "execution_count": 262,
   "id": "3d1ba683-4078-4264-bd69-d70e80f8559d",
   "metadata": {
    "tags": []
   },
   "outputs": [],
   "source": [
    "def get_repo_info(h1_tag, star):\n",
    "    #returns all required information about a repository\n",
    "    a_tags = repo_tags[0].find_all('a')\n",
    "    username = a_tags[0].text.strip()\n",
    "    repo_name = a_tags[1].text.strip()\n",
    "    repo_url = base_url + a_tags[1]['href']\n",
    "    stars = parse_star_count(star_tags[0].text.strip())\n",
    "    return  username,repo_name,stars,repo_url\n",
    "\n",
    "                           "
   ]
  },
  {
   "cell_type": "code",
   "execution_count": 266,
   "id": "010b038d-eba2-40be-87a5-a16ae75a6693",
   "metadata": {
    "tags": []
   },
   "outputs": [
    {
     "data": {
      "text/plain": [
       "('mrdoob', 'three.js', 90100, 'https://gthub.com/mrdoob/three.js')"
      ]
     },
     "execution_count": 266,
     "metadata": {},
     "output_type": "execute_result"
    }
   ],
   "source": [
    " get_repo_info(repo_tags[2],star_tags[2])"
   ]
  },
  {
   "cell_type": "code",
   "execution_count": 264,
   "id": "8ce3d653-3b86-4838-a93e-4f626dd5fae5",
   "metadata": {
    "tags": []
   },
   "outputs": [],
   "source": [
    "topic_repos_dict={\n",
    "    'username': [],\n",
    "    'repo_name': [],\n",
    "    'stars': [],\n",
    "    'repo_url': [],\n",
    "\n",
    "}\n",
    "for i in range(len(repo_tags)):\n",
    "    repo_info = get_repo_info(repo_tags[i], star_tags[i])\n",
    "    topic_repos_dict['username'].append(repo_info[0])\n",
    "    topic_repos_dict['repo_name'].append(repo_info[1])\n",
    "    topic_repos_dict['stars'].append(repo_info[2])\n",
    "    topic_repos_dict['repo_url'].append(repo_info[3])\n"
   ]
  },
  {
   "cell_type": "code",
   "execution_count": 251,
   "id": "820f4a6a-6e1e-4214-a92a-f96807a92e6a",
   "metadata": {
    "tags": []
   },
   "outputs": [
    {
     "data": {
      "text/plain": [
       "{'username': ['mrdoob',\n",
       "  'mrdoob',\n",
       "  'mrdoob',\n",
       "  'mrdoob',\n",
       "  'mrdoob',\n",
       "  'mrdoob',\n",
       "  'mrdoob',\n",
       "  'mrdoob',\n",
       "  'mrdoob',\n",
       "  'mrdoob',\n",
       "  'mrdoob',\n",
       "  'mrdoob',\n",
       "  'mrdoob',\n",
       "  'mrdoob',\n",
       "  'mrdoob',\n",
       "  'mrdoob',\n",
       "  'mrdoob',\n",
       "  'mrdoob',\n",
       "  'mrdoob',\n",
       "  'mrdoob'],\n",
       " 'repo_name': ['three.js',\n",
       "  'three.js',\n",
       "  'three.js',\n",
       "  'three.js',\n",
       "  'three.js',\n",
       "  'three.js',\n",
       "  'three.js',\n",
       "  'three.js',\n",
       "  'three.js',\n",
       "  'three.js',\n",
       "  'three.js',\n",
       "  'three.js',\n",
       "  'three.js',\n",
       "  'three.js',\n",
       "  'three.js',\n",
       "  'three.js',\n",
       "  'three.js',\n",
       "  'three.js',\n",
       "  'three.js',\n",
       "  'three.js'],\n",
       " 'stars': [90100,\n",
       "  90100,\n",
       "  90100,\n",
       "  90100,\n",
       "  90100,\n",
       "  90100,\n",
       "  90100,\n",
       "  90100,\n",
       "  90100,\n",
       "  90100,\n",
       "  90100,\n",
       "  90100,\n",
       "  90100,\n",
       "  90100,\n",
       "  90100,\n",
       "  90100,\n",
       "  90100,\n",
       "  90100,\n",
       "  90100,\n",
       "  90100],\n",
       " 'repo_url': ['https://gthub.com/mrdoob/three.js/mrdoob/three.js',\n",
       "  'https://gthub.com/mrdoob/three.js/mrdoob/three.js',\n",
       "  'https://gthub.com/mrdoob/three.js/mrdoob/three.js',\n",
       "  'https://gthub.com/mrdoob/three.js/mrdoob/three.js',\n",
       "  'https://gthub.com/mrdoob/three.js/mrdoob/three.js',\n",
       "  'https://gthub.com/mrdoob/three.js/mrdoob/three.js',\n",
       "  'https://gthub.com/mrdoob/three.js/mrdoob/three.js',\n",
       "  'https://gthub.com/mrdoob/three.js/mrdoob/three.js',\n",
       "  'https://gthub.com/mrdoob/three.js/mrdoob/three.js',\n",
       "  'https://gthub.com/mrdoob/three.js/mrdoob/three.js',\n",
       "  'https://gthub.com/mrdoob/three.js/mrdoob/three.js',\n",
       "  'https://gthub.com/mrdoob/three.js/mrdoob/three.js',\n",
       "  'https://gthub.com/mrdoob/three.js/mrdoob/three.js',\n",
       "  'https://gthub.com/mrdoob/three.js/mrdoob/three.js',\n",
       "  'https://gthub.com/mrdoob/three.js/mrdoob/three.js',\n",
       "  'https://gthub.com/mrdoob/three.js/mrdoob/three.js',\n",
       "  'https://gthub.com/mrdoob/three.js/mrdoob/three.js',\n",
       "  'https://gthub.com/mrdoob/three.js/mrdoob/three.js',\n",
       "  'https://gthub.com/mrdoob/three.js/mrdoob/three.js',\n",
       "  'https://gthub.com/mrdoob/three.js/mrdoob/three.js']}"
      ]
     },
     "execution_count": 251,
     "metadata": {},
     "output_type": "execute_result"
    }
   ],
   "source": [
    "topic_repos_dict"
   ]
  },
  {
   "cell_type": "code",
   "execution_count": null,
   "id": "6022261d-ccb1-498c-a355-baf995da47dc",
   "metadata": {
    "tags": []
   },
   "outputs": [],
   "source": []
  },
  {
   "cell_type": "code",
   "execution_count": null,
   "id": "305b77f5-97fe-40f2-8d4c-7fce474fc9d2",
   "metadata": {},
   "outputs": [],
   "source": [
    "##Document and share your work"
   ]
  },
  {
   "cell_type": "code",
   "execution_count": null,
   "id": "577c306b-80b7-4f81-8148-7ff1c6966e7a",
   "metadata": {},
   "outputs": [],
   "source": []
  },
  {
   "cell_type": "code",
   "execution_count": null,
   "id": "de400818-1c33-448e-a17c-6e482b430be1",
   "metadata": {},
   "outputs": [],
   "source": []
  },
  {
   "cell_type": "code",
   "execution_count": null,
   "id": "cdcddcfa-9960-4e61-9f2f-70611792b5fa",
   "metadata": {},
   "outputs": [],
   "source": []
  },
  {
   "cell_type": "code",
   "execution_count": null,
   "id": "394e2f5f-f1e9-4ef8-8ff4-0809111d2629",
   "metadata": {},
   "outputs": [],
   "source": []
  },
  {
   "cell_type": "code",
   "execution_count": null,
   "id": "ff7efe03-997a-4444-ab50-72386bdc0117",
   "metadata": {},
   "outputs": [],
   "source": []
  },
  {
   "cell_type": "code",
   "execution_count": null,
   "id": "27b1eb50-d8da-42b0-b98e-7481fc35be63",
   "metadata": {},
   "outputs": [],
   "source": [
    "\n"
   ]
  }
 ],
 "metadata": {
  "kernelspec": {
   "display_name": "Python 3 (ipykernel)",
   "language": "python",
   "name": "python3"
  },
  "language_info": {
   "codemirror_mode": {
    "name": "ipython",
    "version": 3
   },
   "file_extension": ".py",
   "mimetype": "text/x-python",
   "name": "python",
   "nbconvert_exporter": "python",
   "pygments_lexer": "ipython3",
   "version": "3.8.10"
  }
 },
 "nbformat": 4,
 "nbformat_minor": 5
}
