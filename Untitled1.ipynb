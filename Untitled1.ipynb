{
 "cells": [
  {
   "cell_type": "code",
   "execution_count": 7,
   "id": "32328be3-410d-4a1e-b530-ebe6317d444c",
   "metadata": {
    "tags": []
   },
   "outputs": [],
   "source": [
    "!pip install requests --quiet\n"
   ]
  },
  {
   "cell_type": "code",
   "execution_count": 8,
   "id": "22d51eed-051f-47d3-a4e4-229a7e71e784",
   "metadata": {
    "tags": []
   },
   "outputs": [],
   "source": [
    "!pip install bs4 --quiet"
   ]
  },
  {
   "cell_type": "code",
   "execution_count": 3,
   "id": "a577c2fb-1005-47c0-9d95-5cd548813999",
   "metadata": {},
   "outputs": [],
   "source": [
    "#Scraping-github-topics-repositories"
   ]
  },
  {
   "cell_type": "code",
   "execution_count": 5,
   "id": "0583ab2a-9ab3-4de9-ae0e-c36057d73f1d",
   "metadata": {
    "tags": []
   },
   "outputs": [],
   "source": [
    "#Use requests to download pages\n",
    "import requests"
   ]
  },
  {
   "cell_type": "code",
   "execution_count": 6,
   "id": "9b077f68-29f4-4f1d-9806-76d4bd6c648e",
   "metadata": {
    "tags": []
   },
   "outputs": [],
   "source": [
    "topics_url='https://github.com/topics'"
   ]
  },
  {
   "cell_type": "code",
   "execution_count": 7,
   "id": "fa7dbc43-c231-4589-8668-7cb989534c46",
   "metadata": {
    "tags": []
   },
   "outputs": [],
   "source": [
    "response = requests.get(topics_url)"
   ]
  },
  {
   "cell_type": "code",
   "execution_count": 8,
   "id": "c83148f8-114a-4b91-8df6-ad73ac73a124",
   "metadata": {
    "tags": []
   },
   "outputs": [
    {
     "data": {
      "text/plain": [
       "<Response [200]>"
      ]
     },
     "execution_count": 8,
     "metadata": {},
     "output_type": "execute_result"
    }
   ],
   "source": [
    "response"
   ]
  },
  {
   "cell_type": "code",
   "execution_count": 9,
   "id": "b33cb82e-618e-4ab6-ae04-6af4968cf5bd",
   "metadata": {
    "tags": []
   },
   "outputs": [],
   "source": [
    "page_contents=response.text\n"
   ]
  },
  {
   "cell_type": "code",
   "execution_count": 10,
   "id": "e477a4c4-6180-445e-a951-97b645496886",
   "metadata": {
    "tags": []
   },
   "outputs": [
    {
     "data": {
      "text/plain": [
       "'\\n\\n<!DOCTYPE html>\\n<html lang=\"en\" data-color-mode=\"auto\" data-light-theme=\"light\" data-dark-theme=\"dark\" data-a11y-animated-images=\"system\">\\n  <head>\\n    <meta charset=\"utf-8\">\\n  <link rel=\"dns-prefetch\" href=\"https://github.githubassets.com\">\\n  <link rel=\"dns-prefetch\" href=\"https://avatars.githubusercontent.com\">\\n  <link rel=\"dns-prefetch\" href=\"https://github-cloud.s3.amazonaws.com\">\\n  <link rel=\"dns-prefetch\" href=\"https://user-images.githubusercontent.com/\">\\n  <link rel=\"preconnect\" href=\"https://github.githubassets.com\" crossorigin>\\n  <link rel=\"preconnect\" href=\"https://avatars.githubusercontent.com\">\\n\\n  <link crossorigin=\"anonymous\" media=\"all\" rel=\"stylesheet\" href=\"https://github.githubassets.com/assets/light-fe3f886b577a.css\" /><link crossorigin=\"anonymous\" media=\"all\" rel=\"stylesheet\" href=\"https://github.githubassets.com/assets/dark-a1dbeda2886c.css\" /><link data-color-theme=\"dark_dimmed\" crossorigin=\"anonymous\" media=\"all\" rel=\"stylesheet\" data-href=\"https://github.github'"
      ]
     },
     "execution_count": 10,
     "metadata": {},
     "output_type": "execute_result"
    }
   ],
   "source": [
    "page_contents[:1000]"
   ]
  },
  {
   "cell_type": "code",
   "execution_count": 11,
   "id": "ca1b094c-a7ff-4ec9-ac19-f587f2726d3e",
   "metadata": {
    "tags": []
   },
   "outputs": [],
   "source": [
    "with open('webpage.html', 'w') as f:\n",
    "    f.write(page_contents)"
   ]
  },
  {
   "cell_type": "code",
   "execution_count": 12,
   "id": "bbf143a9-a595-4de7-a9e3-3161c959cb8a",
   "metadata": {
    "tags": []
   },
   "outputs": [],
   "source": [
    "from bs4 import BeautifulSoup"
   ]
  },
  {
   "cell_type": "code",
   "execution_count": 13,
   "id": "bdaf6f46-b649-4257-a80c-dcd79eb2e2a8",
   "metadata": {
    "tags": []
   },
   "outputs": [],
   "source": [
    "doc = BeautifulSoup(page_contents, 'html.parser')"
   ]
  },
  {
   "cell_type": "code",
   "execution_count": null,
   "id": "a8f24d99-d5d1-4cde-a43b-67f2cd954a4c",
   "metadata": {
    "tags": []
   },
   "outputs": [],
   "source": []
  },
  {
   "cell_type": "code",
   "execution_count": 14,
   "id": "70364351-c96c-4999-a4f7-68dc986cc918",
   "metadata": {
    "tags": []
   },
   "outputs": [
    {
     "data": {
      "text/plain": [
       "[<p class=\"f3 lh-condensed mb-0 mt-1 Link--primary\">3D</p>,\n",
       " <p class=\"f3 lh-condensed mb-0 mt-1 Link--primary\">Ajax</p>,\n",
       " <p class=\"f3 lh-condensed mb-0 mt-1 Link--primary\">Algorithm</p>,\n",
       " <p class=\"f3 lh-condensed mb-0 mt-1 Link--primary\">Amp</p>,\n",
       " <p class=\"f3 lh-condensed mb-0 mt-1 Link--primary\">Android</p>]"
      ]
     },
     "execution_count": 14,
     "metadata": {},
     "output_type": "execute_result"
    }
   ],
   "source": [
    "selection_class='f3 lh-condensed mb-0 mt-1 Link--primary'\n",
    "topic_title_tags=doc.find_all('p',{'class': selection_class})\n",
    "topic_title_tags[:5]"
   ]
  },
  {
   "cell_type": "code",
   "execution_count": 15,
   "id": "3c996973-7351-487e-a9ea-d1b23609b255",
   "metadata": {
    "tags": []
   },
   "outputs": [],
   "source": [
    "desc_selector='f5 color-fg-muted mb-0 mt-1'\n",
    "topic_desc_tags=doc.find_all('p', {'class': desc_selector})"
   ]
  },
  {
   "cell_type": "code",
   "execution_count": 16,
   "id": "1ce152e7-c7ea-4ec7-8343-1e22e87cd1fb",
   "metadata": {},
   "outputs": [],
   "source": [
    "selection_class='f3 lh-condensed mb-0 mt-1 Link--primary'\n",
    "topic_title_tags=doc.find_all('p',{'class': selection_class})\n",
    "desc_selector='f5 color-fg-muted mb-0 mt-1'\n",
    "topic_desc_tags=doc.find_all('p', {'class': desc_selector})"
   ]
  },
  {
   "cell_type": "code",
   "execution_count": 17,
   "id": "9c306d64-02bf-40fd-a5e5-f1d9b7f4d5f3",
   "metadata": {
    "tags": []
   },
   "outputs": [],
   "source": [
    "topic_link_tags=doc.find_all('a', {'class': 'no-underline flex-1 d-flex flex-column'})"
   ]
  },
  {
   "cell_type": "code",
   "execution_count": 18,
   "id": "e8af4d3a-5315-4b6e-a159-9913bec131de",
   "metadata": {
    "jupyter": {
     "source_hidden": true
    },
    "tags": []
   },
   "outputs": [],
   "source": [
    "selection_class='f3 lh-condensed mb-0 mt-1 Link--primary'\n",
    "topic_title_tags=doc.find_all('p',{'class': selection_class})\n",
    "desc_selector='f5 color-fg-muted mb-0 mt-1'\n",
    "topic_desc_tags=doc.find_all('p', {'class': desc_selector})\n",
    "topic_link_tags=doc.find_all('a', {'class': 'no-underline flex-1 d-flex flex-column'})"
   ]
  },
  {
   "cell_type": "code",
   "execution_count": 19,
   "id": "be84c75e-6c59-4a2b-9bfd-596222a34756",
   "metadata": {
    "jupyter": {
     "source_hidden": true
    },
    "tags": []
   },
   "outputs": [
    {
     "name": "stdout",
     "output_type": "stream",
     "text": [
      "https://github.com/topics/3d\n"
     ]
    }
   ],
   "source": [
    "topic0_url = 'https://github.com' + topic_link_tags[0]['href']\n",
    "print(topic0_url)"
   ]
  },
  {
   "cell_type": "code",
   "execution_count": null,
   "id": "f7691982-342f-4406-9ea4-77a11014f263",
   "metadata": {},
   "outputs": [],
   "source": []
  },
  {
   "cell_type": "code",
   "execution_count": 20,
   "id": "6d0a8964-adb7-4756-9a61-02da876da43a",
   "metadata": {
    "tags": []
   },
   "outputs": [
    {
     "name": "stdout",
     "output_type": "stream",
     "text": [
      "['3D', 'Ajax', 'Algorithm', 'Amp', 'Android', 'Angular', 'Ansible', 'API', 'Arduino', 'ASP.NET', 'Atom', 'Awesome Lists', 'Amazon Web Services', 'Azure', 'Babel', 'Bash', 'Bitcoin', 'Bootstrap', 'Bot', 'C', 'Chrome', 'Chrome extension', 'Command line interface', 'Clojure', 'Code quality', 'Code review', 'Compiler', 'Continuous integration', 'COVID-19', 'C++']\n"
     ]
    }
   ],
   "source": [
    "selection_class='f3 lh-condensed mb-0 mt-1 Link--primary'\n",
    "topic_title_tags=doc.find_all('p',{'class': selection_class})\n",
    "desc_selector='f5 color-fg-muted mb-0 mt-1'\n",
    "topic_desc_tags=doc.find_all('p', {'class': desc_selector})\n",
    "topic_link_tags=doc.find_all('a', {'class': 'no-underline flex-1 d-flex flex-column'})\n",
    "\n",
    "topic_titles=[]\n",
    "for tag in topic_title_tags:\n",
    "    topic_titles.append(tag.text)\n",
    "print(topic_titles)"
   ]
  },
  {
   "cell_type": "code",
   "execution_count": 21,
   "id": "f1d41fb8-23ce-451d-bc51-10c3c004dd47",
   "metadata": {
    "tags": []
   },
   "outputs": [
    {
     "name": "stdout",
     "output_type": "stream",
     "text": [
      "['3D', 'Ajax', 'Algorithm', 'Amp', 'Android', 'Angular', 'Ansible', 'API', 'Arduino', 'ASP.NET', 'Atom', 'Awesome Lists', 'Amazon Web Services', 'Azure', 'Babel', 'Bash', 'Bitcoin', 'Bootstrap', 'Bot', 'C', 'Chrome', 'Chrome extension', 'Command line interface', 'Clojure', 'Code quality', 'Code review', 'Compiler', 'Continuous integration', 'COVID-19', 'C++']\n"
     ]
    }
   ],
   "source": [
    "topic_titles=[]\n",
    "for tag in topic_title_tags:\n",
    "    topic_titles.append(tag.text)\n",
    "print(topic_titles)"
   ]
  },
  {
   "cell_type": "code",
   "execution_count": 22,
   "id": "449e7758-a9cf-41ce-81ac-e456b2172000",
   "metadata": {},
   "outputs": [
    {
     "name": "stdout",
     "output_type": "stream",
     "text": [
      "['3D', 'Ajax', 'Algorithm', 'Amp', 'Android', 'Angular', 'Ansible', 'API', 'Arduino', 'ASP.NET', 'Atom', 'Awesome Lists', 'Amazon Web Services', 'Azure', 'Babel', 'Bash', 'Bitcoin', 'Bootstrap', 'Bot', 'C', 'Chrome', 'Chrome extension', 'Command line interface', 'Clojure', 'Code quality', 'Code review', 'Compiler', 'Continuous integration', 'COVID-19', 'C++']\n",
      "['3D refers to the use of three-dimensional graphics, modeling, and animation in various industries.', 'Ajax is a technique for creating interactive web applications.', 'Algorithms are self-contained sequences that carry out a variety of tasks.', 'Amp is a non-blocking concurrency library for PHP.', 'Android is an operating system built by Google designed for mobile devices.']\n"
     ]
    }
   ],
   "source": [
    "selection_class='f3 lh-condensed mb-0 mt-1 Link--primary'\n",
    "topic_title_tags=doc.find_all('p',{'class': selection_class})\n",
    "desc_selector='f5 color-fg-muted mb-0 mt-1'\n",
    "topic_desc_tags=doc.find_all('p', {'class': desc_selector})\n",
    "topic_link_tags=doc.find_all('a', {'class': 'no-underline flex-1 d-flex flex-column'})\n",
    "\n",
    "topic_titles=[]\n",
    "for tag in topic_title_tags:\n",
    "    topic_titles.append(tag.text)\n",
    "print(topic_titles)\n",
    "\n",
    "topic_descs=[]\n",
    "for tag in topic_desc_tags:\n",
    "    topic_descs.append(tag.text.strip())\n",
    "    \n",
    "print(topic_descs[:5])\n",
    "    \n"
   ]
  },
  {
   "cell_type": "code",
   "execution_count": 23,
   "id": "d91788b4-8f21-46b0-b22a-08af0ddc2cf8",
   "metadata": {
    "tags": []
   },
   "outputs": [
    {
     "name": "stdout",
     "output_type": "stream",
     "text": [
      "['3D refers to the use of three-dimensional graphics, modeling, and animation in various industries.', 'Ajax is a technique for creating interactive web applications.', 'Algorithms are self-contained sequences that carry out a variety of tasks.', 'Amp is a non-blocking concurrency library for PHP.', 'Android is an operating system built by Google designed for mobile devices.']\n"
     ]
    }
   ],
   "source": [
    "topic_descs=[]\n",
    "for tag in topic_desc_tags:\n",
    "    topic_descs.append(tag.text.strip())\n",
    "    \n",
    "print(topic_descs[:5])\n",
    "    "
   ]
  },
  {
   "cell_type": "code",
   "execution_count": 24,
   "id": "2d29f468-b339-4d53-bb89-a2b362b807a7",
   "metadata": {},
   "outputs": [
    {
     "name": "stdout",
     "output_type": "stream",
     "text": [
      "['3D', 'Ajax', 'Algorithm', 'Amp', 'Android', 'Angular', 'Ansible', 'API', 'Arduino', 'ASP.NET', 'Atom', 'Awesome Lists', 'Amazon Web Services', 'Azure', 'Babel', 'Bash', 'Bitcoin', 'Bootstrap', 'Bot', 'C', 'Chrome', 'Chrome extension', 'Command line interface', 'Clojure', 'Code quality', 'Code review', 'Compiler', 'Continuous integration', 'COVID-19', 'C++']\n",
      "['3D refers to the use of three-dimensional graphics, modeling, and animation in various industries.', 'Ajax is a technique for creating interactive web applications.', 'Algorithms are self-contained sequences that carry out a variety of tasks.', 'Amp is a non-blocking concurrency library for PHP.', 'Android is an operating system built by Google designed for mobile devices.']\n"
     ]
    },
    {
     "data": {
      "text/plain": [
       "['https://github.com/topics/3d',\n",
       " 'https://github.com/topics/ajax',\n",
       " 'https://github.com/topics/algorithm',\n",
       " 'https://github.com/topics/amphp',\n",
       " 'https://github.com/topics/android']"
      ]
     },
     "execution_count": 24,
     "metadata": {},
     "output_type": "execute_result"
    }
   ],
   "source": [
    "selection_class='f3 lh-condensed mb-0 mt-1 Link--primary'\n",
    "topic_title_tags=doc.find_all('p',{'class': selection_class})\n",
    "desc_selector='f5 color-fg-muted mb-0 mt-1'\n",
    "topic_desc_tags=doc.find_all('p', {'class': desc_selector})\n",
    "topic_link_tags=doc.find_all('a', {'class': 'no-underline flex-1 d-flex flex-column'})\n",
    "\n",
    "topic_titles=[]\n",
    "for tag in topic_title_tags:\n",
    "    topic_titles.append(tag.text)\n",
    "print(topic_titles)\n",
    "\n",
    "topic_descs=[]\n",
    "for tag in topic_desc_tags:\n",
    "    topic_descs.append(tag.text.strip())\n",
    "    \n",
    "print(topic_descs[:5])\n",
    "\n",
    "topic_urls=[]\n",
    "base_url='https://github.com'\n",
    "for tag in topic_link_tags:\n",
    "    topic_urls.append(base_url + tag['href'])\n",
    "       \n",
    "topic_urls[:5]\n",
    "    "
   ]
  },
  {
   "cell_type": "code",
   "execution_count": 25,
   "id": "653a9ad9-c746-4a62-83cd-2de1b310bb08",
   "metadata": {
    "tags": []
   },
   "outputs": [
    {
     "data": {
      "text/plain": [
       "['https://github.com/topics/3d',\n",
       " 'https://github.com/topics/ajax',\n",
       " 'https://github.com/topics/algorithm',\n",
       " 'https://github.com/topics/amphp',\n",
       " 'https://github.com/topics/android']"
      ]
     },
     "execution_count": 25,
     "metadata": {},
     "output_type": "execute_result"
    }
   ],
   "source": [
    "topic_urls=[]\n",
    "base_url='https://github.com'\n",
    "for tag in topic_link_tags:\n",
    "    topic_urls.append(base_url + tag['href'])\n",
    "       \n",
    "topic_urls[:5]"
   ]
  },
  {
   "cell_type": "code",
   "execution_count": 26,
   "id": "818eee25-aacf-42dc-a31c-c4c2b2948962",
   "metadata": {
    "tags": []
   },
   "outputs": [],
   "source": [
    "#data type transformation module\n",
    "!pip install pandas  --quiet"
   ]
  },
  {
   "cell_type": "code",
   "execution_count": 27,
   "id": "c276504a-0e8f-4493-83de-02ad0f576de5",
   "metadata": {
    "tags": []
   },
   "outputs": [],
   "source": [
    "import pandas as pd"
   ]
  },
  {
   "cell_type": "code",
   "execution_count": 28,
   "id": "79c0a2c7-6d0b-4f49-aefa-692955994284",
   "metadata": {
    "tags": []
   },
   "outputs": [],
   "source": [
    "topics_dict={\n",
    "    'title': topic_titles,\n",
    "    'description': topic_descs,\n",
    "    'url': topic_urls\n",
    "}"
   ]
  },
  {
   "cell_type": "code",
   "execution_count": 29,
   "id": "10061421-5cf4-4758-a6ab-a7bedb077a06",
   "metadata": {
    "tags": []
   },
   "outputs": [],
   "source": [
    "topics_df=pd.DataFrame(topics_dict)\n"
   ]
  },
  {
   "cell_type": "code",
   "execution_count": 30,
   "id": "3afe3bef-4252-4845-93cc-83d793916d90",
   "metadata": {
    "tags": []
   },
   "outputs": [
    {
     "data": {
      "text/html": [
       "<div>\n",
       "<style scoped>\n",
       "    .dataframe tbody tr th:only-of-type {\n",
       "        vertical-align: middle;\n",
       "    }\n",
       "\n",
       "    .dataframe tbody tr th {\n",
       "        vertical-align: top;\n",
       "    }\n",
       "\n",
       "    .dataframe thead th {\n",
       "        text-align: right;\n",
       "    }\n",
       "</style>\n",
       "<table border=\"1\" class=\"dataframe\">\n",
       "  <thead>\n",
       "    <tr style=\"text-align: right;\">\n",
       "      <th></th>\n",
       "      <th>title</th>\n",
       "      <th>description</th>\n",
       "      <th>url</th>\n",
       "    </tr>\n",
       "  </thead>\n",
       "  <tbody>\n",
       "    <tr>\n",
       "      <th>0</th>\n",
       "      <td>3D</td>\n",
       "      <td>3D refers to the use of three-dimensional grap...</td>\n",
       "      <td>https://github.com/topics/3d</td>\n",
       "    </tr>\n",
       "    <tr>\n",
       "      <th>1</th>\n",
       "      <td>Ajax</td>\n",
       "      <td>Ajax is a technique for creating interactive w...</td>\n",
       "      <td>https://github.com/topics/ajax</td>\n",
       "    </tr>\n",
       "    <tr>\n",
       "      <th>2</th>\n",
       "      <td>Algorithm</td>\n",
       "      <td>Algorithms are self-contained sequences that c...</td>\n",
       "      <td>https://github.com/topics/algorithm</td>\n",
       "    </tr>\n",
       "    <tr>\n",
       "      <th>3</th>\n",
       "      <td>Amp</td>\n",
       "      <td>Amp is a non-blocking concurrency library for ...</td>\n",
       "      <td>https://github.com/topics/amphp</td>\n",
       "    </tr>\n",
       "    <tr>\n",
       "      <th>4</th>\n",
       "      <td>Android</td>\n",
       "      <td>Android is an operating system built by Google...</td>\n",
       "      <td>https://github.com/topics/android</td>\n",
       "    </tr>\n",
       "    <tr>\n",
       "      <th>5</th>\n",
       "      <td>Angular</td>\n",
       "      <td>Angular is an open source web application plat...</td>\n",
       "      <td>https://github.com/topics/angular</td>\n",
       "    </tr>\n",
       "    <tr>\n",
       "      <th>6</th>\n",
       "      <td>Ansible</td>\n",
       "      <td>Ansible is a simple and powerful automation en...</td>\n",
       "      <td>https://github.com/topics/ansible</td>\n",
       "    </tr>\n",
       "    <tr>\n",
       "      <th>7</th>\n",
       "      <td>API</td>\n",
       "      <td>An API (Application Programming Interface) is ...</td>\n",
       "      <td>https://github.com/topics/api</td>\n",
       "    </tr>\n",
       "    <tr>\n",
       "      <th>8</th>\n",
       "      <td>Arduino</td>\n",
       "      <td>Arduino is an open source platform for buildin...</td>\n",
       "      <td>https://github.com/topics/arduino</td>\n",
       "    </tr>\n",
       "    <tr>\n",
       "      <th>9</th>\n",
       "      <td>ASP.NET</td>\n",
       "      <td>ASP.NET is a web framework for building modern...</td>\n",
       "      <td>https://github.com/topics/aspnet</td>\n",
       "    </tr>\n",
       "  </tbody>\n",
       "</table>\n",
       "</div>"
      ],
      "text/plain": [
       "       title                                        description  \\\n",
       "0         3D  3D refers to the use of three-dimensional grap...   \n",
       "1       Ajax  Ajax is a technique for creating interactive w...   \n",
       "2  Algorithm  Algorithms are self-contained sequences that c...   \n",
       "3        Amp  Amp is a non-blocking concurrency library for ...   \n",
       "4    Android  Android is an operating system built by Google...   \n",
       "5    Angular  Angular is an open source web application plat...   \n",
       "6    Ansible  Ansible is a simple and powerful automation en...   \n",
       "7        API  An API (Application Programming Interface) is ...   \n",
       "8    Arduino  Arduino is an open source platform for buildin...   \n",
       "9    ASP.NET  ASP.NET is a web framework for building modern...   \n",
       "\n",
       "                                   url  \n",
       "0         https://github.com/topics/3d  \n",
       "1       https://github.com/topics/ajax  \n",
       "2  https://github.com/topics/algorithm  \n",
       "3      https://github.com/topics/amphp  \n",
       "4    https://github.com/topics/android  \n",
       "5    https://github.com/topics/angular  \n",
       "6    https://github.com/topics/ansible  \n",
       "7        https://github.com/topics/api  \n",
       "8    https://github.com/topics/arduino  \n",
       "9     https://github.com/topics/aspnet  "
      ]
     },
     "execution_count": 30,
     "metadata": {},
     "output_type": "execute_result"
    }
   ],
   "source": [
    "topics_df[:10]"
   ]
  },
  {
   "cell_type": "code",
   "execution_count": 31,
   "id": "80d36ff8-aa47-486c-8c29-41fd21b15249",
   "metadata": {
    "tags": []
   },
   "outputs": [],
   "source": [
    "#create a csv with the extracted information\n",
    "topics_df.to_csv('topics.csv', index = None)"
   ]
  },
  {
   "cell_type": "code",
   "execution_count": 32,
   "id": "65d94bd2-4fec-4a7e-9ad5-3750d3453ef2",
   "metadata": {
    "tags": []
   },
   "outputs": [],
   "source": [
    "topic_page_url=topic_urls[0]"
   ]
  },
  {
   "cell_type": "code",
   "execution_count": 33,
   "id": "1b558d3d-31f8-4d4e-b000-992570ed472d",
   "metadata": {
    "tags": []
   },
   "outputs": [
    {
     "data": {
      "text/plain": [
       "'https://github.com/topics/3d'"
      ]
     },
     "execution_count": 33,
     "metadata": {},
     "output_type": "execute_result"
    }
   ],
   "source": [
    "topic_page_url"
   ]
  },
  {
   "cell_type": "code",
   "execution_count": 34,
   "id": "46aa0199-538f-4d6f-856a-f1af2f829867",
   "metadata": {
    "tags": []
   },
   "outputs": [],
   "source": [
    "response=requests.get(topic_page_url)"
   ]
  },
  {
   "cell_type": "code",
   "execution_count": 35,
   "id": "e998d06c-5198-40c5-b150-447dfb1f8be8",
   "metadata": {
    "tags": []
   },
   "outputs": [
    {
     "data": {
      "text/plain": [
       "460384"
      ]
     },
     "execution_count": 35,
     "metadata": {},
     "output_type": "execute_result"
    }
   ],
   "source": [
    "len(response.text)"
   ]
  },
  {
   "cell_type": "code",
   "execution_count": 36,
   "id": "881716ef-bfee-49ef-a105-c869723011b0",
   "metadata": {
    "tags": []
   },
   "outputs": [],
   "source": [
    "topic_doc=BeautifulSoup(response.text, 'html.parser')"
   ]
  },
  {
   "cell_type": "code",
   "execution_count": 37,
   "id": "01880529-e219-43c7-95ff-e1273989265d",
   "metadata": {
    "tags": []
   },
   "outputs": [],
   "source": [
    "h3_selection_class = \"f3 color-fg-muted text-normal lh-condensed\"\n",
    "repo_tags = topic_doc.find_all('h3', {'class': h3_selection_class})"
   ]
  },
  {
   "cell_type": "code",
   "execution_count": 38,
   "id": "9fe893ad-411f-471c-96aa-1875ed83b77a",
   "metadata": {
    "tags": []
   },
   "outputs": [
    {
     "data": {
      "text/plain": [
       "20"
      ]
     },
     "execution_count": 38,
     "metadata": {},
     "output_type": "execute_result"
    }
   ],
   "source": [
    "len(repo_tags)"
   ]
  },
  {
   "cell_type": "code",
   "execution_count": 39,
   "id": "feea3353-656f-4e2c-8d11-7226eb83654f",
   "metadata": {
    "tags": []
   },
   "outputs": [],
   "source": [
    "a_tags=repo_tags[0].find_all('a')"
   ]
  },
  {
   "cell_type": "code",
   "execution_count": 40,
   "id": "44e52345-cc58-4385-acae-aa3f6e7b8f7a",
   "metadata": {
    "tags": []
   },
   "outputs": [
    {
     "data": {
      "text/plain": [
       "'mrdoob'"
      ]
     },
     "execution_count": 40,
     "metadata": {},
     "output_type": "execute_result"
    }
   ],
   "source": [
    "a_tags[0].text.strip()"
   ]
  },
  {
   "cell_type": "code",
   "execution_count": 41,
   "id": "b3e55946-5980-453e-bb58-8a053a0c4481",
   "metadata": {
    "tags": []
   },
   "outputs": [
    {
     "name": "stdout",
     "output_type": "stream",
     "text": [
      "https://github.com//mrdoob/three.js\n"
     ]
    }
   ],
   "source": [
    "base_url = 'https://github.com/'\n",
    "repo_url = base_url + a_tags[1]['href']\n",
    "print(repo_url)"
   ]
  },
  {
   "cell_type": "code",
   "execution_count": 42,
   "id": "a2a81184-7451-4696-a261-54510f1e93fe",
   "metadata": {
    "tags": []
   },
   "outputs": [
    {
     "data": {
      "text/plain": [
       "20"
      ]
     },
     "execution_count": 42,
     "metadata": {},
     "output_type": "execute_result"
    }
   ],
   "source": [
    "star_tags=topic_doc.find_all('span', {'class': \"Counter js-social-count\"})\n",
    "len(star_tags)"
   ]
  },
  {
   "cell_type": "code",
   "execution_count": 43,
   "id": "291b8174-b05f-4c94-acfe-e558b822a26f",
   "metadata": {
    "tags": []
   },
   "outputs": [
    {
     "data": {
      "text/plain": [
       "'90.1k'"
      ]
     },
     "execution_count": 43,
     "metadata": {},
     "output_type": "execute_result"
    }
   ],
   "source": [
    "star_tags[0].text.strip()"
   ]
  },
  {
   "cell_type": "code",
   "execution_count": 44,
   "id": "b3fd76e6-5d59-4a83-8d52-1717ff1e65ae",
   "metadata": {
    "tags": []
   },
   "outputs": [],
   "source": [
    "def parse_star_count(stars_str):\n",
    "    stars_str = stars_str.strip()\n",
    "    if stars_str[-1] == 'k':\n",
    "        return int(float(stars_str[:-1]) * 1000)\n",
    "    return int(stars_str)"
   ]
  },
  {
   "cell_type": "code",
   "execution_count": 45,
   "id": "522c4bc2-a1d0-47bf-bf68-7f2b129cd09b",
   "metadata": {
    "tags": []
   },
   "outputs": [
    {
     "data": {
      "text/plain": [
       "90100"
      ]
     },
     "execution_count": 45,
     "metadata": {},
     "output_type": "execute_result"
    }
   ],
   "source": [
    "parse_star_count(star_tags[0].text.strip())"
   ]
  },
  {
   "cell_type": "code",
   "execution_count": null,
   "id": "66e55499-9b42-4019-9c91-c97c3a541577",
   "metadata": {},
   "outputs": [],
   "source": []
  },
  {
   "cell_type": "code",
   "execution_count": 46,
   "id": "2470df87-7001-4597-a202-5aa8aa5b6c80",
   "metadata": {
    "tags": []
   },
   "outputs": [],
   "source": [
    "def get_repo_info(h3_selection_class, star):\n",
    "    #returns all required info about a repository\n",
    "    a_tags = h3_selection_class.find_all('a')\n",
    "    username = a_tags[0].text.strip()\n",
    "    repo_name = a_tags[1].text.strip()\n",
    "    repo_url = base_url + a_tags[1]['href']\n",
    "    stars = parse_star_count(star_tags[0].text.strip())\n",
    "    return username,repo_name,repo_url,stars\n"
   ]
  },
  {
   "cell_type": "code",
   "execution_count": 47,
   "id": "8c820400-6afa-4e87-a08b-0eaa98cb36a5",
   "metadata": {
    "tags": []
   },
   "outputs": [
    {
     "data": {
      "text/plain": [
       "('mrdoob', 'three.js', 'https://github.com//mrdoob/three.js', 90100)"
      ]
     },
     "execution_count": 47,
     "metadata": {},
     "output_type": "execute_result"
    }
   ],
   "source": [
    "get_repo_info(repo_tags[0], star_tags[0])"
   ]
  },
  {
   "cell_type": "code",
   "execution_count": 48,
   "id": "8862917d-15a9-4e46-85b7-7cda34b4abe5",
   "metadata": {
    "tags": []
   },
   "outputs": [],
   "source": [
    "topic_repos_dict  = {\n",
    "    'username':  [],\n",
    "    'repo_name': [],\n",
    "    'stars': [],\n",
    "    'repo_url' : [],\n",
    "\n",
    "}\n",
    "for i in range(len(repo_tags)):\n",
    "    repo_info=get_repo_info(repo_tags[i], star_tags[i])\n",
    "    topic_repos_dict['username'].append(repo_info[0])\n",
    "    topic_repos_dict['repo_name'].append(repo_info[1])\n",
    "    topic_repos_dict['stars'].append(repo_info[2])\n",
    "    topic_repos_dict['repo_url'].append(repo_info[3])\n",
    "    \n",
    "    \n",
    "    \n",
    "    "
   ]
  },
  {
   "cell_type": "code",
   "execution_count": null,
   "id": "c1e8877e-51bc-43be-be8b-aa406ce19cb0",
   "metadata": {
    "tags": []
   },
   "outputs": [],
   "source": []
  },
  {
   "cell_type": "code",
   "execution_count": 49,
   "id": "5b2051b3-96e8-474e-b1f0-f8c34295f57e",
   "metadata": {
    "tags": []
   },
   "outputs": [],
   "source": [
    "topic_repos_df=pd.DataFrame(topic_repos_dict)"
   ]
  },
  {
   "cell_type": "code",
   "execution_count": 98,
   "id": "4a1e10c1-1893-4861-bc29-41d8a3b12080",
   "metadata": {
    "tags": []
   },
   "outputs": [],
   "source": [
    "import os\n",
    "def get_topic_page(topic_url):\n",
    "    #Download the page\n",
    "    response = requests.get(topic_url)\n",
    "    #Check succcessiful Response\n",
    "    if response.status_code != 200:\n",
    "        raise Exception('repo page does not exists{}'.format(topic_url))\n",
    "    #parse using beautifulsoup\n",
    "    topic_doc=BeautifulSoup(response.text,  'html.parser')\n",
    "    return topic_doc\n",
    "    \n",
    "def get_repo_info(h3_selection_class, star):\n",
    "    #returns all required info about a repository\n",
    "    a_tags = h3_selection_class.find_all('a')\n",
    "    username = a_tags[0].text.strip()\n",
    "    repo_name = a_tags[1].text.strip()\n",
    "    repo_url = base_url + a_tags[1]['href']\n",
    "    stars = parse_star_count(star_tags[0].text.strip())\n",
    "    return username,repo_name,repo_url,stars\n",
    "\n",
    "\n",
    "def get_topic_repos(topic_doc):\n",
    "    #Get h1 tags containing repo title,repo URL and username\n",
    "    h3_selection_class = \"f3 color-fg-muted text-normal lh-condensed\"\n",
    "    repo_tags = topic_doc.find_all('h3', {'class': h3_selection_class})\n",
    "    #Get star tags\n",
    "    star_tags=topic_doc.find_all('span', {'class': \"Counter js-social-count\"})\n",
    "    #Get repo info\n",
    "    \n",
    "    topic_repos_dict  = { 'username':  [], 'repo_name': [], 'stars': [],'repo_url' : [],}    \n",
    "    for i in range(len(repo_tags)):\n",
    "        repo_info=get_repo_info(repo_tags[i], star_tags[i])\n",
    "        topic_repos_dict['username'].append(repo_info[0])\n",
    "        topic_repos_dict['repo_name'].append(repo_info[1])\n",
    "        topic_repos_dict['repo_url'].append(repo_info[2])\n",
    "        topic_repos_dict['stars'].append(repo_info[3])\n",
    "    return pd.DataFrame(topic_repos_dict)\n",
    "                        \n",
    "def scrape_topic(topic_url, path):\n",
    "    if os.path.exists(path):\n",
    "        print(\"The file '{}' already exixts skipping...\".format(path))\n",
    "        return \n",
    "    \n",
    "    topic_df = get_topic_repos(get_topic_page(topic_url))\n",
    "    topic_df.to_csv(path,index = None)      \n",
    "    \n",
    "        \n",
    "    \n",
    "    "
   ]
  },
  {
   "cell_type": "code",
   "execution_count": 99,
   "id": "1fc68708-0d15-4c8d-88de-a3eed41fe113",
   "metadata": {
    "tags": []
   },
   "outputs": [],
   "source": [
    "url4 = topic_urls[4]"
   ]
  },
  {
   "cell_type": "code",
   "execution_count": 100,
   "id": "ae3bc374-5be9-4aec-9963-39974bc7f31c",
   "metadata": {
    "tags": []
   },
   "outputs": [],
   "source": [
    "topic4_doc = get_topic_page(url4)"
   ]
  },
  {
   "cell_type": "code",
   "execution_count": null,
   "id": "45f6659a-8837-4072-8871-26df5bfff871",
   "metadata": {
    "tags": []
   },
   "outputs": [],
   "source": []
  },
  {
   "cell_type": "code",
   "execution_count": 101,
   "id": "d318f2d0-1286-4cdb-9a18-f639b243eaee",
   "metadata": {
    "tags": []
   },
   "outputs": [],
   "source": [
    "topic4_repos=get_topic_repos(topic4_doc)"
   ]
  },
  {
   "cell_type": "code",
   "execution_count": 102,
   "id": "9ad2fa57-eca2-4e9e-8959-5c56fd6338ed",
   "metadata": {},
   "outputs": [],
   "source": [
    "get_topic_repos(get_topic_page(topic_urls[6])).to_csv('ansible.csv', index=None)"
   ]
  },
  {
   "cell_type": "code",
   "execution_count": 87,
   "id": "6f0f9e92-870e-4749-b36a-e6f109e3b556",
   "metadata": {},
   "outputs": [],
   "source": [
    "#Write a function to :\n",
    " #   1.Get the list of topics from the topics page\n",
    "  #  2.Get the list of top repos from the individual topic topic pages\n",
    "   # 3.For each, create CSV of the top repos for the topic"
   ]
  },
  {
   "cell_type": "code",
   "execution_count": 103,
   "id": "a96e0295-2e95-4f15-8991-4c8307b1ef1f",
   "metadata": {
    "tags": []
   },
   "outputs": [],
   "source": [
    "def get_topic_titles(doc):\n",
    "    selection_class='f3 lh-condensed mb-0 mt-1 Link--primary'\n",
    "    topic_title_tags=doc.find_all('p',{'class': selection_class})\n",
    "    \n",
    "    topic_titles=[]\n",
    "    for tag in topic_title_tags:\n",
    "        topic_titles.append(tag.text)\n",
    "    return topic_titles\n",
    "\n",
    "def get_topic_descs(doc):\n",
    "    desc_selector='f5 color-fg-muted mb-0 mt-1'\n",
    "    topic_desc_tags=doc.find_all('p', {'class': desc_selector})\n",
    "    \n",
    "    topic_descs=[]\n",
    "    for tag in topic_desc_tags:\n",
    "        topic_descs.append(tag.text.strip())\n",
    "        \n",
    "    return topic_descs\n",
    "\n",
    "def get_topic_urls(doc):\n",
    "    topic_link_tags=doc.find_all('a', {'class': 'no-underline flex-1 d-flex flex-column'})        \n",
    "    topic_urls=[]\n",
    "    base_url='https://github.com'\n",
    "    for tag in topic_link_tags:\n",
    "        topic_urls.append(base_url + tag['href'])\n",
    "    return topic_urls\n",
    "               \n",
    "def scrape_topics():\n",
    "    topics_url='https://github.com/topics'\n",
    "    response=requests.get(topics_url)\n",
    "    #Check succcessiful Response\n",
    "    if response.status_code != 200:\n",
    "        raise Exception('repo page does not exists{}'.format(topic_url))\n",
    "    topics_dict={\n",
    "        'title': get_topic_titles(doc),\n",
    "        'description': get_topic_descs(doc),\n",
    "        'url': get_topic_urls(doc),\n",
    "    }\n",
    "    return pd.DataFrame(topics_dict)\n",
    "    \n",
    "\n",
    "    \n",
    "    \n",
    "    \n",
    "    \n",
    "    \n",
    "    \n",
    "        \n"
   ]
  },
  {
   "cell_type": "code",
   "execution_count": 104,
   "id": "cf4a4456-d817-404d-9428-dc8b20738a1c",
   "metadata": {
    "tags": []
   },
   "outputs": [
    {
     "name": "stdout",
     "output_type": "stream",
     "text": [
      "Help on built-in function mkdir in module posix:\n",
      "\n",
      "mkdir(path, mode=511, *, dir_fd=None)\n",
      "    Create a directory.\n",
      "    \n",
      "    If dir_fd is not None, it should be a file descriptor open to a directory,\n",
      "      and path should be relative; path will then be relative to that directory.\n",
      "    dir_fd may not be implemented on your platform.\n",
      "      If it is unavailable, using it will raise a NotImplementedError.\n",
      "    \n",
      "    The mode argument is ignored on Windows.\n",
      "\n"
     ]
    }
   ],
   "source": [
    "import os\n",
    "help(os.mkdir)"
   ]
  },
  {
   "cell_type": "code",
   "execution_count": 105,
   "id": "4de9c6d0-924f-4286-b61f-e2b80c4f316a",
   "metadata": {
    "tags": []
   },
   "outputs": [],
   "source": [
    "def scrape_topics_repos():\n",
    "    print('Scraping list of top topics from github')\n",
    "    topics_df = scrape_topics()\n",
    "    \n",
    "    os.makedirs('data', exist_ok=True)\n",
    "    for index,row in topics_df.iterrows():\n",
    "        print('Scraping top repositories for\"{}\"'.format(row['title']))\n",
    "        scrape_topic(row['url'],'data/{}.csv'.format(row['title']))"
   ]
  },
  {
   "cell_type": "code",
   "execution_count": 106,
   "id": "b2b0bafc-5f91-4598-bdd2-27a17d195b30",
   "metadata": {
    "tags": []
   },
   "outputs": [
    {
     "name": "stdout",
     "output_type": "stream",
     "text": [
      "Scraping list of top topics from github\n",
      "Scraping top repositories for\"3D\"\n",
      "The file 'data/3D.csv' already exixts skipping...\n",
      "Scraping top repositories for\"Ajax\"\n",
      "The file 'data/Ajax.csv' already exixts skipping...\n",
      "Scraping top repositories for\"Algorithm\"\n",
      "The file 'data/Algorithm.csv' already exixts skipping...\n",
      "Scraping top repositories for\"Amp\"\n",
      "The file 'data/Amp.csv' already exixts skipping...\n",
      "Scraping top repositories for\"Android\"\n",
      "The file 'data/Android.csv' already exixts skipping...\n",
      "Scraping top repositories for\"Angular\"\n",
      "The file 'data/Angular.csv' already exixts skipping...\n",
      "Scraping top repositories for\"Ansible\"\n",
      "The file 'data/Ansible.csv' already exixts skipping...\n",
      "Scraping top repositories for\"API\"\n",
      "The file 'data/API.csv' already exixts skipping...\n",
      "Scraping top repositories for\"Arduino\"\n",
      "The file 'data/Arduino.csv' already exixts skipping...\n",
      "Scraping top repositories for\"ASP.NET\"\n",
      "The file 'data/ASP.NET.csv' already exixts skipping...\n",
      "Scraping top repositories for\"Atom\"\n",
      "The file 'data/Atom.csv' already exixts skipping...\n",
      "Scraping top repositories for\"Awesome Lists\"\n",
      "The file 'data/Awesome Lists.csv' already exixts skipping...\n",
      "Scraping top repositories for\"Amazon Web Services\"\n",
      "The file 'data/Amazon Web Services.csv' already exixts skipping...\n",
      "Scraping top repositories for\"Azure\"\n",
      "The file 'data/Azure.csv' already exixts skipping...\n",
      "Scraping top repositories for\"Babel\"\n",
      "The file 'data/Babel.csv' already exixts skipping...\n",
      "Scraping top repositories for\"Bash\"\n",
      "The file 'data/Bash.csv' already exixts skipping...\n",
      "Scraping top repositories for\"Bitcoin\"\n",
      "The file 'data/Bitcoin.csv' already exixts skipping...\n",
      "Scraping top repositories for\"Bootstrap\"\n",
      "The file 'data/Bootstrap.csv' already exixts skipping...\n",
      "Scraping top repositories for\"Bot\"\n",
      "The file 'data/Bot.csv' already exixts skipping...\n",
      "Scraping top repositories for\"C\"\n",
      "The file 'data/C.csv' already exixts skipping...\n",
      "Scraping top repositories for\"Chrome\"\n",
      "The file 'data/Chrome.csv' already exixts skipping...\n",
      "Scraping top repositories for\"Chrome extension\"\n",
      "The file 'data/Chrome extension.csv' already exixts skipping...\n",
      "Scraping top repositories for\"Command line interface\"\n",
      "The file 'data/Command line interface.csv' already exixts skipping...\n",
      "Scraping top repositories for\"Clojure\"\n",
      "The file 'data/Clojure.csv' already exixts skipping...\n",
      "Scraping top repositories for\"Code quality\"\n",
      "The file 'data/Code quality.csv' already exixts skipping...\n",
      "Scraping top repositories for\"Code review\"\n",
      "The file 'data/Code review.csv' already exixts skipping...\n",
      "Scraping top repositories for\"Compiler\"\n",
      "The file 'data/Compiler.csv' already exixts skipping...\n",
      "Scraping top repositories for\"Continuous integration\"\n",
      "The file 'data/Continuous integration.csv' already exixts skipping...\n",
      "Scraping top repositories for\"COVID-19\"\n",
      "The file 'data/COVID-19.csv' already exixts skipping...\n",
      "Scraping top repositories for\"C++\"\n",
      "The file 'data/C++.csv' already exixts skipping...\n"
     ]
    }
   ],
   "source": [
    "scrape_topics_repos() "
   ]
  },
  {
   "cell_type": "code",
   "execution_count": null,
   "id": "426f92c7-374b-4e39-9e45-4bb70622a0a0",
   "metadata": {},
   "outputs": [],
   "source": []
  },
  {
   "cell_type": "code",
   "execution_count": null,
   "id": "34aaebeb-4b7f-4efd-9f14-b6809214fe2f",
   "metadata": {},
   "outputs": [],
   "source": []
  },
  {
   "cell_type": "code",
   "execution_count": null,
   "id": "cfb5872f-06bc-4205-9174-d8cdcee2c293",
   "metadata": {},
   "outputs": [],
   "source": []
  },
  {
   "cell_type": "code",
   "execution_count": null,
   "id": "d5eebc4e-1d08-4f8c-801e-7d7eea679929",
   "metadata": {},
   "outputs": [],
   "source": []
  },
  {
   "cell_type": "code",
   "execution_count": null,
   "id": "d22e02ee-c3c0-4b4c-9ea8-c3e93e46b194",
   "metadata": {},
   "outputs": [],
   "source": []
  },
  {
   "cell_type": "code",
   "execution_count": null,
   "id": "163d5d8c-ab70-4841-8d74-664f9f888d90",
   "metadata": {},
   "outputs": [],
   "source": []
  }
 ],
 "metadata": {
  "celltoolbar": "Attachments",
  "kernelspec": {
   "display_name": "Python 3 (ipykernel)",
   "language": "python",
   "name": "python3"
  },
  "language_info": {
   "codemirror_mode": {
    "name": "ipython",
    "version": 3
   },
   "file_extension": ".py",
   "mimetype": "text/x-python",
   "name": "python",
   "nbconvert_exporter": "python",
   "pygments_lexer": "ipython3",
   "version": "3.8.10"
  }
 },
 "nbformat": 4,
 "nbformat_minor": 5
}
